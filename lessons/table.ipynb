{
 "cells": [
  {
   "attachments": {},
   "cell_type": "markdown",
   "metadata": {},
   "source": [
    "## Import some of our data utils"
   ]
  },
  {
   "cell_type": "code",
   "execution_count": 6,
   "metadata": {},
   "outputs": [
    {
     "data": {
      "text/plain": [
       "[{'Day': 'Monday', 'Low': '56', 'High': '75'},\n",
       " {'Day': 'Tuesday', 'Low': '53', 'High': '72'},\n",
       " {'Day': 'Wednesday', 'Low': '50', 'High': '72'}]"
      ]
     },
     "execution_count": 6,
     "metadata": {},
     "output_type": "execute_result"
    }
   ],
   "source": [
    "from data_utils import read_csv_rows, columnar\n",
    "\n",
    "filename: str = \"../data/weather-comp110.csv\"\n",
    "data: list[dict[str, str]] = read_csv_rows(filename)\n",
    "data"
   ]
  },
  {
   "cell_type": "code",
   "execution_count": 7,
   "metadata": {},
   "outputs": [
    {
     "data": {
      "text/plain": [
       "{'Day': ['Monday', 'Tuesday', 'Wednesday'],\n",
       " 'Low': ['56', '53', '50'],\n",
       " 'High': ['75', '72', '72']}"
      ]
     },
     "execution_count": 7,
     "metadata": {},
     "output_type": "execute_result"
    }
   ],
   "source": [
    "column_data: dict[str, list[str]] = columnar(data)\n",
    "column_data"
   ]
  },
  {
   "cell_type": "markdown",
   "metadata": {},
   "source": [
    "## Printing Data"
   ]
  },
  {
   "cell_type": "code",
   "execution_count": 8,
   "metadata": {},
   "outputs": [
    {
     "data": {
      "text/html": [
       "<table>\n",
       "<thead>\n",
       "<tr><th>Day      </th><th style=\"text-align: right;\">  Low</th><th style=\"text-align: right;\">  High</th></tr>\n",
       "</thead>\n",
       "<tbody>\n",
       "<tr><td>Monday   </td><td style=\"text-align: right;\">   56</td><td style=\"text-align: right;\">    75</td></tr>\n",
       "<tr><td>Tuesday  </td><td style=\"text-align: right;\">   53</td><td style=\"text-align: right;\">    72</td></tr>\n",
       "<tr><td>Wednesday</td><td style=\"text-align: right;\">   50</td><td style=\"text-align: right;\">    72</td></tr>\n",
       "</tbody>\n",
       "</table>"
      ],
      "text/plain": [
       "'<table>\\n<thead>\\n<tr><th>Day      </th><th style=\"text-align: right;\">  Low</th><th style=\"text-align: right;\">  High</th></tr>\\n</thead>\\n<tbody>\\n<tr><td>Monday   </td><td style=\"text-align: right;\">   56</td><td style=\"text-align: right;\">    75</td></tr>\\n<tr><td>Tuesday  </td><td style=\"text-align: right;\">   53</td><td style=\"text-align: right;\">    72</td></tr>\\n<tr><td>Wednesday</td><td style=\"text-align: right;\">   50</td><td style=\"text-align: right;\">    72</td></tr>\\n</tbody>\\n</table>'"
      ]
     },
     "execution_count": 8,
     "metadata": {},
     "output_type": "execute_result"
    }
   ],
   "source": [
    "from tabulate import tabulate\n",
    "\n",
    "tabulate(column_data, column_data.keys(), \"html\")"
   ]
  },
  {
   "attachments": {},
   "cell_type": "markdown",
   "metadata": {},
   "source": [
    "## Get table of just Monday and Tuesday"
   ]
  },
  {
   "cell_type": "code",
   "execution_count": 4,
   "metadata": {},
   "outputs": [
    {
     "data": {
      "text/plain": [
       "{'Day': ['Monday', 'Tuesday'], 'Low': ['56', '53'], 'High': ['75', '72']}"
      ]
     },
     "execution_count": 4,
     "metadata": {},
     "output_type": "execute_result"
    }
   ],
   "source": [
    "smaller_data_set: dict[str, list[str]] = {}\n",
    "\n",
    "for key in column_data:\n",
    "    #make entry with \"key\" as the key and the first two elem of list as values\n",
    "    sub_list: list[str] = []\n",
    "    data_to_get: list[str] = column_data[key]\n",
    "    for i in range(2):\n",
    "        sub_list.append(data_to_get[i])\n",
    "    smaller_data_set[key] = sub_list\n",
    "\n",
    "smaller_data_set"
   ]
  },
  {
   "cell_type": "code",
   "execution_count": 5,
   "metadata": {},
   "outputs": [
    {
     "data": {
      "text/html": [
       "<table>\n",
       "<thead>\n",
       "<tr><th>Day    </th><th style=\"text-align: right;\">  Low</th><th style=\"text-align: right;\">  High</th></tr>\n",
       "</thead>\n",
       "<tbody>\n",
       "<tr><td>Monday </td><td style=\"text-align: right;\">   56</td><td style=\"text-align: right;\">    75</td></tr>\n",
       "<tr><td>Tuesday</td><td style=\"text-align: right;\">   53</td><td style=\"text-align: right;\">    72</td></tr>\n",
       "</tbody>\n",
       "</table>"
      ],
      "text/plain": [
       "'<table>\\n<thead>\\n<tr><th>Day    </th><th style=\"text-align: right;\">  Low</th><th style=\"text-align: right;\">  High</th></tr>\\n</thead>\\n<tbody>\\n<tr><td>Monday </td><td style=\"text-align: right;\">   56</td><td style=\"text-align: right;\">    75</td></tr>\\n<tr><td>Tuesday</td><td style=\"text-align: right;\">   53</td><td style=\"text-align: right;\">    72</td></tr>\\n</tbody>\\n</table>'"
      ]
     },
     "execution_count": 5,
     "metadata": {},
     "output_type": "execute_result"
    }
   ],
   "source": [
    "tabulate(smaller_data_set, smaller_data_set.keys(), \"html\")"
   ]
  }
 ],
 "metadata": {
  "kernelspec": {
   "display_name": "Python 3",
   "language": "python",
   "name": "python3"
  },
  "language_info": {
   "codemirror_mode": {
    "name": "ipython",
    "version": 3
   },
   "file_extension": ".py",
   "mimetype": "text/x-python",
   "name": "python",
   "nbconvert_exporter": "python",
   "pygments_lexer": "ipython3",
   "version": "3.11.1"
  },
  "orig_nbformat": 4
 },
 "nbformat": 4,
 "nbformat_minor": 2
}
